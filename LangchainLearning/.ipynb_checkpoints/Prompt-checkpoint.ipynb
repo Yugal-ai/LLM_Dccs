{
 "cells": [
  {
   "cell_type": "markdown",
   "id": "cab2d5fc",
   "metadata": {},
   "source": [
    "## What is a prompt template?\n",
    "### A prompt template refers to a reproducible way to generate a prompt. It contains a text string (“the template”), that can take  a set of parameters from the end user and generate a prompt.\n",
    "\n",
    "### The prompt template may contain:\n",
    "\n",
    "#### instructions to the language model,\n",
    "\n",
    "#### set of few shot examples to help the language model generate a better response,\n",
    "\n",
    "#### question to the language model."
   ]
  },
  {
   "cell_type": "markdown",
   "id": "09ea7730",
   "metadata": {},
   "source": [
    "### -------------------------------------------------------------------------------"
   ]
  },
  {
   "cell_type": "markdown",
   "id": "4375888a",
   "metadata": {},
   "source": [
    "#### Example "
   ]
  },
  {
   "cell_type": "code",
   "execution_count": 4,
   "id": "ae19d7e6",
   "metadata": {},
   "outputs": [
    {
     "data": {
      "text/plain": [
       "' I want you to act as a Financial Consultant , And tell me which is good for my own Investing on Infy ?'"
      ]
     },
     "execution_count": 4,
     "metadata": {},
     "output_type": "execute_result"
    }
   ],
   "source": [
    "from langchain import PromptTemplate\n",
    "\n",
    "template = \" I want you to act as a Financial Consultant , And tell me which is good for my own Investing on {product} ?\"\n",
    "prompt = PromptTemplate (\n",
    "            input_variables = [\"product\"] ,\n",
    "            template = template\n",
    ")\n",
    "\n",
    "prompt.format(product = \"Infy\")\n"
   ]
  },
  {
   "cell_type": "markdown",
   "id": "da2ae0c6",
   "metadata": {},
   "source": [
    "### Multiple Prompt Template"
   ]
  },
  {
   "cell_type": "code",
   "execution_count": 20,
   "id": "3494668b",
   "metadata": {},
   "outputs": [],
   "source": [
    "from langchain import PromptTemplate\n",
    "\n",
    "# No input\n",
    "prompt_temp_1 = PromptTemplate( input_variables = [] , template = \"Tell me a joke\") \n",
    "\n",
    "# Single Input\n",
    "prompt_temp_2 = PromptTemplate(input_variables = [\"adjective\"] , template = \"Tell me a  {adjective} joke \")\n",
    "prompt_temp_2.format(adjective = \"funny\")\n",
    "\n",
    "# Multiple Input\n",
    "prompt_temp_3 = PromptTemplate(input_variables =[\"adjective\" , \"content\"] , template = \"Tell me joke with {adjective} and {content}\")\n",
    "prompt_temp_3.format(adjective =\"Funny\" , content = \"Chickens\")\n",
    "\n",
    "# It will print only 'Tell me joke with Funny and Chickens' Comment above two lines to view other results\n"
   ]
  },
  {
   "cell_type": "markdown",
   "id": "23a194ef",
   "metadata": {},
   "source": [
    "### In we don't want to specify Input variables, we can get this from other variables with the from_template"
   ]
  },
  {
   "cell_type": "code",
   "execution_count": 24,
   "id": "9b8ac363",
   "metadata": {},
   "outputs": [
    {
     "data": {
      "text/plain": [
       "' I want you to act as a Financial Consultant , And tell me which is good for my own Investing on Infy ?'"
      ]
     },
     "execution_count": 24,
     "metadata": {},
     "output_type": "execute_result"
    }
   ],
   "source": [
    "from langchain import PromptTemplate\n",
    "\n",
    "prompt_template = PromptTemplate.from_template(template)\n",
    "prompt_template.input_variables\n",
    "\n",
    "prompt_template.format(product = \"Infy\")"
   ]
  },
  {
   "cell_type": "markdown",
   "id": "0073c3cb",
   "metadata": {},
   "source": [
    "### Validation of template"
   ]
  },
  {
   "cell_type": "code",
   "execution_count": 26,
   "id": "6084e6bf",
   "metadata": {},
   "outputs": [],
   "source": [
    "from langchain import PromptTemplate\n",
    "\n",
    "template = \"Give me details on {product} amd How it perform in  {year}\"\n",
    "\n",
    "Promt_temp = PromptTemplate(template = template , input_variables = [\"Infy\" , \"2022\"] , validate_template = False)"
   ]
  },
  {
   "cell_type": "markdown",
   "id": "d1a797f4",
   "metadata": {},
   "source": [
    "### Serialize prompt template / Save and Use Prompt"
   ]
  },
  {
   "cell_type": "code",
   "execution_count": 28,
   "id": "e9c4519e",
   "metadata": {},
   "outputs": [],
   "source": [
    "# Save Prompt first\n",
    "Promt_temp.save(\"Demo_Prompt.json\")"
   ]
  },
  {
   "cell_type": "code",
   "execution_count": 31,
   "id": "0037cdf5",
   "metadata": {},
   "outputs": [],
   "source": [
    "# Library to load Saved prompt\n",
    "from langchain.prompts import load_prompt\n",
    "loaded_prompt = load_prompt(\"Demo_Prompt.json\")\n",
    "\n",
    "## Assert is use in testing, if condition is true it will return nothing else It will give error\n",
    "assert Promt_temp == loaded_prompt\n"
   ]
  },
  {
   "cell_type": "markdown",
   "id": "a4cd33d4",
   "metadata": {},
   "source": [
    "### Pass few shot examples to a prompt template"
   ]
  },
  {
   "cell_type": "code",
   "execution_count": 1,
   "id": "338618ee",
   "metadata": {},
   "outputs": [
    {
     "name": "stdout",
     "output_type": "stream",
     "text": [
      "Give the antonym of every input\n",
      "\n",
      "Word: happy\n",
      "Antonym: sad\n",
      "\n",
      "\n",
      "\n",
      "Word: tall\n",
      "Antonym: short\n",
      "\n",
      "\n",
      "Word: big\n",
      "Antonym:\n"
     ]
    }
   ],
   "source": [
    "from langchain import PromptTemplate , FewShotPromptTemplate\n",
    "\n",
    "# First, create the list of few shot examples.\n",
    "examples = [\n",
    "    {\"word\": \"happy\", \"antonym\": \"sad\"},\n",
    "    {\"word\": \"tall\", \"antonym\": \"short\"},\n",
    "]\n",
    "\n",
    "example_formatter_template = \"\"\"\n",
    "Word: {word}\n",
    "Antonym: {antonym}\\n\n",
    "\"\"\"\n",
    "\n",
    "example_prompt = PromptTemplate(\n",
    "    input_variables=[\"word\", \"antonym\"],\n",
    "    template=example_formatter_template,\n",
    ")\n",
    "\n",
    "few_shot_prompts = FewShotPromptTemplate(examples = examples , \n",
    "                                        example_prompt = example_prompt ,\n",
    "                                        prefix=\"Give the antonym of every input\",\n",
    "                                        suffix=\"Word: {input}\\nAntonym:\",\n",
    "                                        input_variables=[\"input\"],\n",
    "                                        example_separator=\"\\n\")\n",
    "\n",
    "print(few_shot_prompts.format(input=\"big\"))\n",
    "\n"
   ]
  },
  {
   "cell_type": "code",
   "execution_count": null,
   "id": "28b64f38",
   "metadata": {},
   "outputs": [],
   "source": []
  }
 ],
 "metadata": {
  "kernelspec": {
   "display_name": "Python 3 (ipykernel)",
   "language": "python",
   "name": "python3"
  },
  "language_info": {
   "codemirror_mode": {
    "name": "ipython",
    "version": 3
   },
   "file_extension": ".py",
   "mimetype": "text/x-python",
   "name": "python",
   "nbconvert_exporter": "python",
   "pygments_lexer": "ipython3",
   "version": "3.9.13"
  }
 },
 "nbformat": 4,
 "nbformat_minor": 5
}
